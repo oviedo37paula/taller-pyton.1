{
  "cells": [
    {
      "cell_type": "markdown",
      "source": [
        "Econometría \n",
        "***Maria Paula Oviedo Saldaña - 63201005\n",
        "Miguel Angel Valero Fernandez - 63201020\n",
        "Brayan Steven Laiton Rivera - 63201067***"
      ],
      "metadata": {
        "id": "PvLYmyoF8SDQ"
      }
    },
    {
      "cell_type": "markdown",
      "metadata": {
        "id": "TTMbmaAQ4cj4"
      },
      "source": [
        "a) Crea un programa que tome una lista de números como entrada y devuelva la suma de todos los números en la lista."
      ]
    },
    {
      "cell_type": "code",
      "execution_count": null,
      "metadata": {
        "colab": {
          "base_uri": "https://localhost:8080/"
        },
        "id": "1Y3-JNtu4cGp",
        "outputId": "05518f5e-afa9-4994-c330-28d048c09c6e"
      },
      "outputs": [
        {
          "name": "stdout",
          "output_type": "stream",
          "text": [
            "45\n"
          ]
        }
      ],
      "source": [
        "lista=[1,2,3,4,5,6,7,8,9]\n",
        "suma_de_lista=sum(lista)\n",
        "print(suma_de_lista)"
      ]
    },
    {
      "cell_type": "markdown",
      "metadata": {
        "id": "sAjZ9nqX5mDq"
      },
      "source": [
        "b) Escribe un programa que tome dos listas y devuelva una nueva lista que contenga todos los elementos que son comunes a ambas listas."
      ]
    },
    {
      "cell_type": "code",
      "execution_count": null,
      "metadata": {
        "colab": {
          "base_uri": "https://localhost:8080/"
        },
        "id": "qyJ4YyHT6HMv",
        "outputId": "a8061356-7691-41cb-e7d2-c082ff45f43a"
      },
      "outputs": [
        {
          "name": "stdout",
          "output_type": "stream",
          "text": [
            "[1, 2, 4]\n"
          ]
        }
      ],
      "source": [
        "lista1=[1,2,3,4]\n",
        "lista2=[4,7,1,2]\n",
        "lista3 = list(set(lista1) & set(lista2))\n",
        "print(lista3)\n",
        "\n"
      ]
    },
    {
      "cell_type": "markdown",
      "metadata": {
        "id": "fmMeX4SO__I8"
      },
      "source": [
        "c) Crea un programa que tome una lista de cadenas como entrada y devuelva la longitud de la cadena más larga en la lista.\n"
      ]
    },
    {
      "cell_type": "code",
      "execution_count": null,
      "metadata": {
        "colab": {
          "base_uri": "https://localhost:8080/"
        },
        "id": "ibSI2TuYAOm1",
        "outputId": "ee71a288-ed46-49e9-b10d-78c1ce57490e"
      },
      "outputs": [
        {
          "name": "stdout",
          "output_type": "stream",
          "text": [
            "clase\n"
          ]
        }
      ],
      "source": [
        "palabra = [\"ya\", \"vamos\", \"a\" , \"salir\" , \"de\" , \"clase\"]\n",
        "mayor=palabra[0]\n",
        "\n",
        "for i in palabra:\n",
        "  if len(i)>=len(mayor):\n",
        "    mayor=i\n",
        "print(mayor)"
      ]
    },
    {
      "cell_type": "markdown",
      "metadata": {
        "id": "AbCfbDK_B-Sy"
      },
      "source": [
        "d) Escribe un programa que tome una lista de números como entrada y devuelva una nueva lista que contenga solo los números pares de la lista original.\n"
      ]
    },
    {
      "cell_type": "code",
      "execution_count": null,
      "metadata": {
        "colab": {
          "base_uri": "https://localhost:8080/"
        },
        "id": "vEn07gTYB_FN",
        "outputId": "1cd7207e-1a35-4234-8bcb-7c1adc79a351"
      },
      "outputs": [
        {
          "name": "stdout",
          "output_type": "stream",
          "text": [
            "[2, 4, 6, 8]\n"
          ]
        }
      ],
      "source": [
        "lista4= [1,2,3,4,5,6,7,8,9]\n",
        "pares = [n for n in lista4 if n%2==0]\n",
        "print(pares)\n"
      ]
    },
    {
      "cell_type": "markdown",
      "metadata": {
        "id": "eDyjqOScJNUf"
      },
      "source": [
        "e) Crea un programa que tome una lista de cadenas como entrada y devuelva una nueva lista que contenga solo las cadenas que comienzan con la letra \"a\"."
      ]
    },
    {
      "cell_type": "code",
      "execution_count": null,
      "metadata": {
        "colab": {
          "base_uri": "https://localhost:8080/"
        },
        "id": "88zV0O2kKCxN",
        "outputId": "9f0a4e8f-9986-4ec9-cca1-b0eb7fbd21d5"
      },
      "outputs": [
        {
          "name": "stdout",
          "output_type": "stream",
          "text": [
            "['armadillo', 'aguila']\n"
          ]
        }
      ],
      "source": [
        "lista5=[\"perro\",\"gato\",\"armadillo\",\"tortuga\",\"aguila\"]\n",
        "nueva_lista=[]\n",
        "for palabra in lista5:\n",
        "  if palabra.startswith(\"a\"):\n",
        "    nueva_lista.append(palabra)\n",
        "print(nueva_lista)"
      ]
    },
    {
      "cell_type": "markdown",
      "metadata": {
        "id": "cvPF3TFl1_v_"
      },
      "source": [
        "f) Escribe un programa que tome un diccionario como entrada y devuelva el valor asociado con una clave dada.\n"
      ]
    },
    {
      "cell_type": "code",
      "execution_count": null,
      "metadata": {
        "colab": {
          "base_uri": "https://localhost:8080/"
        },
        "id": "5-YpWCIs2Fm6",
        "outputId": "e1887701-4def-4010-8207-18bdd5fccfdf"
      },
      "outputs": [
        {
          "output_type": "stream",
          "name": "stdout",
          "text": [
            "['H', 'I', 'J', 'K']\n"
          ]
        }
      ],
      "source": [
        "def buscar_valor(diccionario, clave):\n",
        "    if clave in diccionario:\n",
        "        return diccionario[clave]\n",
        "    else:\n",
        "\n",
        "        print('Valor no encontrado')\n",
        "diccionario1 = {'letras': ['H','I','J','K'], 'numero': [13,29,8], 'simbolos': ['!','$','%']}\n",
        "valor = buscar_valor(diccionario1, 'letras')\n",
        "print(valor)\n"
      ]
    },
    {
      "cell_type": "markdown",
      "metadata": {
        "id": "HR2LknIJ2GTN"
      },
      "source": [
        "g) Crea un programa que tome una lista de diccionarios como entrada y devuelva una nueva lista que contenga solo los diccionarios que tienen una cierta clave."
      ]
    },
    {
      "cell_type": "code",
      "execution_count": null,
      "metadata": {
        "colab": {
          "base_uri": "https://localhost:8080/"
        },
        "id": "5O2nKrL34aPO",
        "outputId": "9c7880df-bb91-4cf0-99c6-59bfa529b004"
      },
      "outputs": [
        {
          "output_type": "stream",
          "name": "stdout",
          "text": [
            "[{'carnivoro': 'leon', 'herbivoro': 'jirafa'}]\n"
          ]
        }
      ],
      "source": [
        "def buscar_diccionarios(lista, clave):\n",
        "    resultado = []\n",
        "    for diccionario in lista:\n",
        "        if clave in diccionario:\n",
        "            resultado.append(diccionario)\n",
        "    return resultado\n",
        "\n",
        "lista6 = [{'carnivoro': 'leon', 'herbivoro': 'jirafa'}, {'fruta': 'pera', 'verdura': 'arveja'}]\n",
        "diccionarios_variedad = buscar_diccionarios(lista6,'carnivoro')\n",
        "print(diccionarios_variedad)"
      ]
    },
    {
      "cell_type": "markdown",
      "metadata": {
        "id": "1kKScPwD5Y0v"
      },
      "source": [
        "h) Escribe un programa que tome un diccionario como entrada y devuelva un nuevo \n",
        "diccionario con las claves y los valores intercambiados.\n",
        "\n",
        "\n",
        "\n",
        "\n"
      ]
    },
    {
      "cell_type": "code",
      "execution_count": null,
      "metadata": {
        "id": "yzsU45Y45aMX",
        "colab": {
          "base_uri": "https://localhost:8080/"
        },
        "outputId": "633ac36c-ca58-450b-97c4-4ea0973aff60"
      },
      "outputs": [
        {
          "output_type": "stream",
          "name": "stdout",
          "text": [
            "{'berlin': 'ciudad', 'alemania': 'pais', 'europa': 'continente'}\n"
          ]
        }
      ],
      "source": [
        "def intercambiar (diccionario):\n",
        "  diccionario2 = {}\n",
        "  for clave, valor in diccionario.items ():\n",
        "    diccionario2[valor] = clave\n",
        "  return diccionario2 \n",
        "\n",
        "diccionario3 = {'ciudad':'berlin', 'pais':'alemania', 'continente':'europa'}\n",
        "diccionario_invertido = intercambiar (diccionario3) \n",
        "print (diccionario_invertido)"
      ]
    },
    {
      "cell_type": "markdown",
      "metadata": {
        "id": "TBm-6keF9D8x"
      },
      "source": [
        "i) Crea un programa que tome dos diccionarios como entrada y devuelva un nuevo diccionario que contenga solo los pares clave-valor que son comunes a ambos diccionarios."
      ]
    },
    {
      "cell_type": "code",
      "execution_count": null,
      "metadata": {
        "colab": {
          "base_uri": "https://localhost:8080/"
        },
        "id": "wT8FZDta9Pso",
        "outputId": "fb703d9a-2b8d-4406-ac62-d79c7d102f21"
      },
      "outputs": [
        {
          "output_type": "stream",
          "name": "stdout",
          "text": [
            "{'continente': 'europa'}\n"
          ]
        }
      ],
      "source": [
        "def los_pares_comunes(diccionario4, diccionario5):\n",
        "    pares_comunes = {}\n",
        "    for clave, valor in diccionario4.items():\n",
        "        if clave in diccionario5 and diccionario5[clave] == valor:\n",
        "            pares_comunes[clave] = valor\n",
        "    return pares_comunes\n",
        "diccionario4={'ciudad':'berlin', 'pais':'alemania', 'continente':'europa'}\n",
        "diccionario5={'ciudad':'dublin', 'pais':'irlanda', 'continente':'europa'}\n",
        "pares_comunes = los_pares_comunes(diccionario4,diccionario5)\n",
        "print(pares_comunes)"
      ]
    },
    {
      "cell_type": "markdown",
      "metadata": {
        "id": "yiDGefXRCn93"
      },
      "source": [
        "j) Escribe un programa que tome un diccionario como entrada y devuelva un nuevo diccionario con las claves ordenadas alfabéticamente.\n"
      ]
    },
    {
      "cell_type": "code",
      "execution_count": null,
      "metadata": {
        "colab": {
          "base_uri": "https://localhost:8080/"
        },
        "id": "lX-MwXc6Cv12",
        "outputId": "63e67401-625f-4253-9f25-bf108c8b9f34"
      },
      "outputs": [
        {
          "output_type": "stream",
          "name": "stdout",
          "text": [
            "dict_keys(['ciudad', 'pais', 'continente'])\n",
            "['ciudad', 'continente', 'pais']\n"
          ]
        }
      ],
      "source": [
        "diccionario6={'ciudad':'dublin', 'pais':'irlanda', 'continente':'europa'}\n",
        "keys=diccionario6.keys()\n",
        "print(keys)\n",
        "sorted_keys=sorted(keys)\n",
        "print(sorted_keys)\n",
        "\n"
      ]
    },
    {
      "cell_type": "markdown",
      "metadata": {
        "id": "ruL3yMYLCzZd"
      },
      "source": [
        "k) Escribe una función que tome dos números como entrada y devuelva su suma.\n",
        "\n"
      ]
    },
    {
      "cell_type": "code",
      "execution_count": null,
      "metadata": {
        "colab": {
          "base_uri": "https://localhost:8080/"
        },
        "id": "DatP_LIsC1_H",
        "outputId": "d3a4dd17-9485-4b4e-f7c6-cb108f970ec8"
      },
      "outputs": [
        {
          "output_type": "stream",
          "name": "stdout",
          "text": [
            "165\n"
          ]
        }
      ],
      "source": [
        "def sumar_numeros (num1,num2,num3):\n",
        "  suma = num1 + num2 + num3\n",
        "  return suma \n",
        "resultado = sumar_numeros(94, 11,60)\n",
        "print(resultado)"
      ]
    },
    {
      "cell_type": "markdown",
      "metadata": {
        "id": "5wYBfR-XDFdW"
      },
      "source": [
        "l) Crea una función que tome una lista de cadenas como entrada y devuelva una nueva lista que contenga solo las cadenas que son más largas que una longitud dada.\n"
      ]
    },
    {
      "cell_type": "code",
      "execution_count": null,
      "metadata": {
        "id": "UXF4XWU2I8qy",
        "colab": {
          "base_uri": "https://localhost:8080/"
        },
        "outputId": "75578ea4-fe19-4672-87f1-a0b38b513cf3"
      },
      "outputs": [
        {
          "output_type": "stream",
          "name": "stdout",
          "text": [
            "['Contrarrevolucionario', 'Anticonstitucionalidad']\n"
          ]
        }
      ],
      "source": [
        "cadenas = ['electronico', 'antiflamatorio', 'Contrarrevolucionario', 'Anticonstitucionalidad']\n",
        "def filtrar_cadenas(lista_cadenas, longitud_minima):\n",
        "    nuevas_cadenas = []\n",
        "    for cadena in lista_cadenas:\n",
        "        if len(cadena) > longitud_minima:\n",
        "            nuevas_cadenas.append(cadena)\n",
        "    return nuevas_cadenas\n",
        "\n",
        "longitud_minima = 15\n",
        "resultado = filtrar_cadenas(cadenas, longitud_minima)\n",
        "print(resultado)\n"
      ]
    },
    {
      "cell_type": "markdown",
      "metadata": {
        "id": "RqwQenLeI9Gd"
      },
      "source": [
        "m) Escribe una función que tome una cadena como entrada y devuelva True si la cadena es un palíndromo, False en caso contrario.\n"
      ]
    },
    {
      "cell_type": "code",
      "source": [
        "cadena3 = \"union\"\n",
        "cadena4 = \"naranja\"\n",
        "def palindromo(cadena):\n",
        "    cadena = cadena.lower().replace(\" \", \"\")\n",
        "    return cadena == cadena[::-1]\n",
        "print(palindromo(cadena3)) \n",
        "print(palindromo(cadena4))"
      ],
      "metadata": {
        "id": "96EUajwgETgM",
        "colab": {
          "base_uri": "https://localhost:8080/"
        },
        "outputId": "497d3da9-829d-45b6-ea9f-50412fffe16a"
      },
      "execution_count": 8,
      "outputs": [
        {
          "output_type": "stream",
          "name": "stdout",
          "text": [
            "False\n",
            "False\n"
          ]
        }
      ]
    },
    {
      "cell_type": "markdown",
      "metadata": {
        "id": "JviVBEt6UDV3"
      },
      "source": [
        "n) Crea una función que tome una lista de números como entrada y devuelva el promedio de todos los números en la lista.\n",
        "\n"
      ]
    },
    {
      "cell_type": "code",
      "execution_count": null,
      "metadata": {
        "id": "nHpIaaaCUGol",
        "colab": {
          "base_uri": "https://localhost:8080/"
        },
        "outputId": "125585ad-24b3-4a25-ac3a-51d3c9260c47"
      },
      "outputs": [
        {
          "output_type": "stream",
          "name": "stdout",
          "text": [
            "52.2\n"
          ]
        }
      ],
      "source": [
        "lista7 = [35,68,71,24,63]\n",
        "def obtener_promedio(lista7):\n",
        "  if len(lista7) == 0:\n",
        "    return 0\n",
        "  else:\n",
        "   return sum(lista7)/len(lista7)\n",
        "print(obtener_promedio(lista7))"
      ]
    },
    {
      "cell_type": "markdown",
      "metadata": {
        "id": "WvCuOD-jJSeM"
      },
      "source": [
        "o) Escribe una función que tome un diccionario como entrada y devuelva una lista de todas las claves en el diccionario.\n"
      ]
    },
    {
      "cell_type": "code",
      "execution_count": null,
      "metadata": {
        "id": "huMMOhWUJUm9",
        "colab": {
          "base_uri": "https://localhost:8080/"
        },
        "outputId": "c7de0ea5-469d-4fba-a4fb-33ce6246df01"
      },
      "outputs": [
        {
          "output_type": "stream",
          "name": "stdout",
          "text": [
            "['ciudad', 'pais', 'continente']\n"
          ]
        }
      ],
      "source": [
        "diccionario7 = {'ciudad':'dublin', 'pais':'irlanda', 'continente':'europa'}\n",
        "def obtener_claves(diccionario):\n",
        "    return list(diccionario.keys())\n",
        "\n",
        "print(obtener_claves(diccionario7))\n",
        "\n"
      ]
    },
    {
      "cell_type": "markdown",
      "metadata": {
        "id": "-LbLqJ_0JVPT"
      },
      "source": [
        "p) Escribe un programa que tome una lista de números como entrada y devuelva el valor máximo en la lista.\n"
      ]
    },
    {
      "cell_type": "code",
      "execution_count": null,
      "metadata": {
        "id": "OFeSKLVNJXK_",
        "colab": {
          "base_uri": "https://localhost:8080/"
        },
        "outputId": "36e6b8eb-9ea4-4c26-b439-023bfb272ba0"
      },
      "outputs": [
        {
          "output_type": "stream",
          "name": "stdout",
          "text": [
            "71\n"
          ]
        }
      ],
      "source": [
        "lista8 = [35,68,71,24,63]\n",
        "def obtener_valor_maximo(lista8):\n",
        "  if len(lista8) == 0:\n",
        "    return 0\n",
        "  else:\n",
        "   return max(lista8)\n",
        "print(obtener_valor_maximo(lista8))"
      ]
    },
    {
      "cell_type": "markdown",
      "metadata": {
        "id": "i_zEMZMOJXqV"
      },
      "source": [
        "q) Crea un programa que tome una cadena como entrada y devuelva una nueva cadena que contenga solo las vocales en la cadena original.\n"
      ]
    },
    {
      "cell_type": "code",
      "execution_count": null,
      "metadata": {
        "id": "9eYNJhzNJcVc",
        "colab": {
          "base_uri": "https://localhost:8080/"
        },
        "outputId": "dbdf1b14-79c3-4abe-9cad-95e4d022b3ea"
      },
      "outputs": [
        {
          "output_type": "stream",
          "name": "stdout",
          "text": [
            "['e', 'e', 'a', 'i', 'o', 'u', 'e', 'u', 'i', 'e', 'e', 'e', 'e', 'e', 'u', 'o']\n"
          ]
        }
      ],
      "source": [
        "cadena1 = \"Se el cambio que quieres ver en el mundo\"\n",
        "def obtener_vocales(cadena):\n",
        "    vocales = \"aeiou\"\n",
        "    vocales_encontradas = []\n",
        "    for caracter in cadena:\n",
        "        if caracter in vocales:\n",
        "            vocales_encontradas += caracter\n",
        "    return vocales_encontradas\n",
        "\n",
        "print(obtener_vocales(cadena1))"
      ]
    },
    {
      "cell_type": "markdown",
      "metadata": {
        "id": "m50-9oHOJZfc"
      },
      "source": [
        "r) Escribe un programa que tome una lista de números como entrada y devuelva una nueva lista que contenga los valores al cuadrado de cada número en la lista original.\n"
      ]
    },
    {
      "cell_type": "code",
      "execution_count": null,
      "metadata": {
        "id": "COWHa3IzJdMH",
        "colab": {
          "base_uri": "https://localhost:8080/"
        },
        "outputId": "6d777335-5b2f-4bfb-8109-ac8c570f8230"
      },
      "outputs": [
        {
          "output_type": "stream",
          "name": "stdout",
          "text": [
            "[16, 144, 400, 784, 1296]\n"
          ]
        }
      ],
      "source": [
        "lista9 = [4, 12, 20, 28, 36]\n",
        "def obtener_cuadrados(lista9):\n",
        "    lista_cuadrados = []\n",
        "    for numero in lista9:\n",
        "        lista_cuadrados.append(numero ** 2)\n",
        "    return lista_cuadrados\n",
        "print(obtener_cuadrados(lista9))"
      ]
    },
    {
      "cell_type": "markdown",
      "metadata": {
        "id": "KHb9-gLYJeuR"
      },
      "source": [
        "s) Crea un programa que tome una cadena como entrada y devuelva una nueva cadena con los caracteres en orden inverso.\n"
      ]
    },
    {
      "cell_type": "code",
      "execution_count": null,
      "metadata": {
        "id": "IUY2gFWiJf3k",
        "colab": {
          "base_uri": "https://localhost:8080/"
        },
        "outputId": "36604602-3616-4eff-aada-5169adf9b026"
      },
      "outputs": [
        {
          "output_type": "stream",
          "name": "stdout",
          "text": [
            "nevoj sare odnauc sabatisecen neiuq éS\n"
          ]
        }
      ],
      "source": [
        "cadena = \"Sé quien necesitabas cuando eras joven\"\n",
        "def invertir_cadena(cadena):\n",
        "    return cadena[::-1]\n",
        "print(invertir_cadena(cadena))"
      ]
    },
    {
      "cell_type": "markdown",
      "metadata": {
        "id": "Vu7I_k2qJhce"
      },
      "source": [
        "t) Escribe un programa que tome una lista de cadenas como entrada y devuelva una nueva lista que contenga la longitud de cada cadena en la lista original.\n"
      ]
    },
    {
      "cell_type": "code",
      "execution_count": null,
      "metadata": {
        "id": "h32w9kHnJiK5",
        "colab": {
          "base_uri": "https://localhost:8080/"
        },
        "outputId": "f90c8744-7544-4683-9a67-691272179143"
      },
      "outputs": [
        {
          "output_type": "stream",
          "name": "stdout",
          "text": [
            "[2, 5, 3, 2, 5, 2, 6, 3, 5]\n"
          ]
        }
      ],
      "source": [
        "lista10 = ['No', 'dejes', 'que', 'el', 'miedo', 'te', 'impida', 'ser', 'feliz']\n",
        "def longitud_cadenas(lista_cadenas):\n",
        "    longitudes = []\n",
        "    for cadena in lista_cadenas:\n",
        "        longitudes.append(len(cadena))\n",
        "    return longitudes\n",
        "\n",
        "\n",
        "longitudes = longitud_cadenas(lista10)\n",
        "print(longitudes)"
      ]
    }
  ],
  "metadata": {
    "colab": {
      "provenance": []
    },
    "kernelspec": {
      "display_name": "Python 3",
      "name": "python3"
    },
    "language_info": {
      "name": "python"
    }
  },
  "nbformat": 4,
  "nbformat_minor": 0
}